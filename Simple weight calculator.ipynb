{
 "cells": [
  {
   "cell_type": "code",
   "execution_count": null,
   "metadata": {},
   "outputs": [],
   "source": [
    "# This program will compute your weight in other celestial boadies"
   ]
  },
  {
   "cell_type": "code",
   "execution_count": 11,
   "metadata": {},
   "outputs": [
    {
     "name": "stdout",
     "output_type": "stream",
     "text": [
      "Enter your weight:120\n",
      "Type a name of a celestial body:earth\n",
      "120.0 Newtons\n"
     ]
    }
   ],
   "source": [
    "# Define the celestial bodies\n",
    "\n",
    "bodies = { 'mercury' : 0.4155, 'venus' : 0.8975, \n",
    "          'earth' : 1.0, 'moon' : 1.66, 'mars' : 0.3507, \n",
    "          'jupiter' : 2.5374, 'saturn' : 1.0677, 'uranus' : 0.8947, \n",
    "          'neptune' : 1.1794, 'pluto' : 0.0899 }\n",
    "\n",
    "weight = float( input( \"Enter your weight:\" )) \n",
    "body = str( input( \"Type a name of a celestial body:\" ))\n",
    "body = body.lower() \n",
    "celestialWeight = bodies[body] * weight\n",
    "\n",
    "print (celestialWeight, \"Newtons\")"
   ]
  },
  {
   "cell_type": "code",
   "execution_count": null,
   "metadata": {},
   "outputs": [],
   "source": []
  }
 ],
 "metadata": {
  "kernelspec": {
   "display_name": "Python 3",
   "language": "python",
   "name": "python3"
  },
  "language_info": {
   "codemirror_mode": {
    "name": "ipython",
    "version": 3
   },
   "file_extension": ".py",
   "mimetype": "text/x-python",
   "name": "python",
   "nbconvert_exporter": "python",
   "pygments_lexer": "ipython3",
   "version": "3.5.4"
  }
 },
 "nbformat": 4,
 "nbformat_minor": 2
}
